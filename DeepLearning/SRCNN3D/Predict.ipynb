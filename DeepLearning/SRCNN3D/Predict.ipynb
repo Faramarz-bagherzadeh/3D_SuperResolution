{
 "cells": [
  {
   "cell_type": "code",
   "execution_count": 1,
   "id": "ec6e36e1",
   "metadata": {},
   "outputs": [
    {
     "name": "stderr",
     "output_type": "stream",
     "text": [
      "D:\\Software\\Anaconda\\envs\\MachineLearning\\lib\\site-packages\\paramiko\\transport.py:219: CryptographyDeprecationWarning: Blowfish has been deprecated\n",
      "  \"class\": algorithms.Blowfish,\n"
     ]
    }
   ],
   "source": [
    "import matplotlib.pyplot as plt\n",
    "from skimage.segmentation import mark_boundaries\n",
    "from skimage.transform import downscale_local_mean, rotate\n",
    "import numpy as np\n",
    "import os\n",
    "import tifffile\n",
    "from scipy import ndimage\n",
    "import time\n",
    "import torch\n",
    "from torch.utils.data import Dataset, DataLoader\n",
    "#import dataloader1 as dataloader\n",
    "import dataloader_SRCNN as dataloader\n",
    "import cv2\n",
    "import skimage\n",
    "import model_SRCNN\n",
    "from patchify import patchify, unpatchify\n"
   ]
  },
  {
   "cell_type": "code",
   "execution_count": 2,
   "id": "ebe8741e",
   "metadata": {},
   "outputs": [
    {
     "name": "stdout",
     "output_type": "stream",
     "text": [
      "CUDA is not available on this machine.\n"
     ]
    }
   ],
   "source": [
    "\n",
    "if torch.cuda.is_available():\n",
    "    device_count = torch.cuda.device_count()\n",
    "    print(f\"Number of CUDA devices available: {device_count}\")\n",
    "    for i in range(device_count):\n",
    "        device = torch.cuda.get_device_name(i)\n",
    "        print(f\"Device {i}: {device}\")\n",
    "else:\n",
    "    print(\"CUDA is not available on this machine.\")\n",
    "    \n",
    "device = torch.device(\"cuda\" if torch.cuda.is_available() else \"cpu\")"
   ]
  },
  {
   "cell_type": "code",
   "execution_count": 3,
   "id": "d8a4495c",
   "metadata": {},
   "outputs": [],
   "source": [
    "patch_size = 64\n",
    "batch_size = 1"
   ]
  },
  {
   "cell_type": "code",
   "execution_count": 4,
   "id": "a06b8190",
   "metadata": {},
   "outputs": [
    {
     "name": "stdout",
     "output_type": "stream",
     "text": [
      "Data initial shape =  (70, 1786, 1798)\n",
      "Target initial shape =  (70, 1786, 1798)\n"
     ]
    }
   ],
   "source": [
    "path_d = 'data/02_Substack (6267-6662)_B40_bag12_13.tif'\n",
    "path_t = 'data/registered_image02_3dCT_B40_bag12_13_300mm.tif'\n",
    "data = tifffile.imread(path_d)[:70,:,:]\n",
    "target = tifffile.imread(path_t)[:70,:,:]\n",
    "\n",
    "print ('Data initial shape = ',data.shape)\n",
    "print ('Target initial shape = ',data.shape)"
   ]
  },
  {
   "cell_type": "code",
   "execution_count": 5,
   "id": "28b2d63c",
   "metadata": {},
   "outputs": [],
   "source": [
    "def contrast_stretching(img):\n",
    "    # Contrast stretching\n",
    "    # Dropping extreems (artifacts)\n",
    "    batch = 32\n",
    "    print ('performed on a batch of = ', batch)\n",
    "    for i in range ((img.shape[0]//batch)+1):\n",
    "        if (i+1)*batch <img.shape[0]:\n",
    "            input_image = img[i*batch:(i+1)*batch]\n",
    "            p2, p98 = np.percentile(input_image, (2, 98))\n",
    "            img[i*batch:(i+1)*batch] = skimage.exposure.rescale_intensity(input_image, in_range=(p2, p98))\n",
    "        else:\n",
    "            input_image = img[i*batch:]\n",
    "            p2, p98 = np.percentile(input_image, (2, 98))\n",
    "            img[i*batch:] = skimage.exposure.rescale_intensity(input_image, in_range=(p2, p98))\n",
    "        print(f\"Progress: {round(((i+1)*batch)*100/img.shape[0])} %\", end='\\r')\n",
    "    return img\n",
    "\n",
    "\n",
    "def reshape_to_power_of_2(data):\n",
    "    # Check if the shape of the image in each dimension is a power of 2\n",
    "    original_shape = data.shape\n",
    "    new_shape = [2**int(np.ceil(np.log2(dim))) for dim in data.shape]\n",
    "    padding = [(0, new_dim - old_dim) for old_dim, new_dim in zip(data.shape, new_shape)]\n",
    "    data = np.pad(data, padding, mode='constant', constant_values=0)\n",
    "    print ('original_shape =',original_shape)\n",
    "    print ('padding = ',padding)\n",
    "    return original_shape, padding, data\n",
    "\n",
    "def patchyfy_img(img, ps, step):\n",
    "    padded_shape = img.shape\n",
    "    img = patchify(img,(ps, ps, ps) ,  step=step )\n",
    "    patched_shape = img.shape\n",
    "    img = img.reshape(img.shape[0]*img.shape[1]*img.shape[2],ps,ps,ps )\n",
    "    return padded_shape, patched_shape,img\n",
    "\n",
    "def build_original_image(img,patched_shape, padded_shape, original_shape, padding):\n",
    "    img = img.reshape(patched_shape)\n",
    "    print (img.shape)\n",
    "    img = unpatchify(img, padded_shape)\n",
    "    print (img.shape)\n",
    "    img = img[:img.shape[0]-padding[0][1], :img.shape[1]-padding[1][1], :img.shape[2]-padding[2][1]]\n",
    "    print (img.shape)\n",
    "    return img\n",
    "\n",
    "def load_checkpoint(checkpoint, model):\n",
    "    print(\"=> Loading checkpoint\")\n",
    "    model.load_state_dict(checkpoint[\"state_dict\"])\n",
    "    \n",
    "\n"
   ]
  },
  {
   "cell_type": "code",
   "execution_count": 6,
   "id": "8600ac2b",
   "metadata": {},
   "outputs": [
    {
     "name": "stdout",
     "output_type": "stream",
     "text": [
      "performed on a batch of =  32\n",
      "Progress: 137 %\r"
     ]
    }
   ],
   "source": [
    "data = contrast_stretching(data)"
   ]
  },
  {
   "cell_type": "code",
   "execution_count": 7,
   "id": "67fb3654",
   "metadata": {},
   "outputs": [
    {
     "name": "stdout",
     "output_type": "stream",
     "text": [
      "original_shape = (70, 1786, 1798)\n",
      "padding =  [(0, 58), (0, 262), (0, 250)]\n"
     ]
    }
   ],
   "source": [
    "original_shape, padding , data = reshape_to_power_of_2(data)"
   ]
  },
  {
   "cell_type": "code",
   "execution_count": 8,
   "id": "2af31d33",
   "metadata": {},
   "outputs": [],
   "source": [
    "padded_shape, patched_shape, data = patchyfy_img(data,ps=patch_size,step=patch_size)"
   ]
  },
  {
   "cell_type": "code",
   "execution_count": 9,
   "id": "c05bcb24",
   "metadata": {},
   "outputs": [
    {
     "name": "stdout",
     "output_type": "stream",
     "text": [
      "=> Loading checkpoint\n",
      "Progress: 100 %\r"
     ]
    }
   ],
   "source": [
    "prediction = np.zeros_like(data)\n",
    "model = model_SRCNN.SRCNN()\n",
    "load_checkpoint(torch.load(\"my_SRCNN_checkpoint.pth.tar\",map_location=torch.device('cpu') ), model)   \n",
    "\n",
    "for i in range(data.shape[0]):\n",
    "    input_= torch.from_numpy(data[i]).unsqueeze(0).unsqueeze(0).float()\n",
    "    input_ = input_/255 #normalization\n",
    "    output_= model(input_).cpu().detach().numpy()\n",
    "    output_ = output_[0,0]*255 # back to real scale\n",
    "    output_ = output_.astype('uint8')\n",
    "    prediction[i]=output_\n",
    "    print(f\"Progress: {round(i*100/data.shape[0])} %\", end='\\r')\n",
    "\n",
    "    "
   ]
  },
  {
   "cell_type": "code",
   "execution_count": null,
   "id": "0388d143",
   "metadata": {},
   "outputs": [],
   "source": []
  },
  {
   "cell_type": "code",
   "execution_count": 10,
   "id": "c63a50fe",
   "metadata": {},
   "outputs": [
    {
     "data": {
      "text/plain": [
       "(2048, 64, 64, 64)"
      ]
     },
     "execution_count": 10,
     "metadata": {},
     "output_type": "execute_result"
    }
   ],
   "source": [
    "prediction.shape"
   ]
  },
  {
   "cell_type": "code",
   "execution_count": 11,
   "id": "60d5602b",
   "metadata": {},
   "outputs": [
    {
     "name": "stdout",
     "output_type": "stream",
     "text": [
      "(2, 32, 32, 64, 64, 64)\n",
      "(128, 2048, 2048)\n",
      "(70, 1786, 1798)\n"
     ]
    }
   ],
   "source": [
    "prediction = build_original_image(prediction,patched_shape, padded_shape, original_shape, padding)"
   ]
  },
  {
   "cell_type": "code",
   "execution_count": 12,
   "id": "843ed15b",
   "metadata": {},
   "outputs": [
    {
     "data": {
      "text/plain": [
       "(70, 1786, 1798)"
      ]
     },
     "execution_count": 12,
     "metadata": {},
     "output_type": "execute_result"
    }
   ],
   "source": [
    "prediction.shape"
   ]
  },
  {
   "cell_type": "code",
   "execution_count": 60,
   "id": "5ce20795",
   "metadata": {},
   "outputs": [
    {
     "name": "stdout",
     "output_type": "stream",
     "text": [
      "performed on a batch of =  32\n",
      "Progress: 137 %\r"
     ]
    }
   ],
   "source": [
    "target = contrast_stretching(target)"
   ]
  },
  {
   "cell_type": "code",
   "execution_count": 69,
   "id": "bb974248",
   "metadata": {},
   "outputs": [
    {
     "data": {
      "text/plain": [
       "<matplotlib.image.AxesImage at 0x1ff06122760>"
      ]
     },
     "execution_count": 69,
     "metadata": {},
     "output_type": "execute_result"
    },
    {
     "data": {
      "image/png": "[encoded data removed]",
      "text/plain": [
       "<Figure size 640x480 with 1 Axes>"
      ]
     },
     "metadata": {},
     "output_type": "display_data"
    }
   ],
   "source": [
    "plt.imshow(prediction[10,600:602,500:520],'gray') # [10:16,640:704,64:640]"
   ]
  },
  {
   "cell_type": "code",
   "execution_count": 79,
   "id": "12453be3",
   "metadata": {},
   "outputs": [],
   "source": [
    "\n",
    "kernel = 2\n",
    "preds = patchyfy_img(prediction[10:12,600:602,500:628], kernel,1)[-1]\n",
    "tars = patchyfy_img(target[10:12,600:602,500:628], kernel,1)[-1]\n"
   ]
  },
  {
   "cell_type": "code",
   "execution_count": 80,
   "id": "8086464b",
   "metadata": {},
   "outputs": [],
   "source": [
    "PSNR = []\n",
    "for i in range(tars.shape[0]):\n",
    "    psnr= skimage.metrics.peak_signal_noise_ratio(tars[i], preds[i])\n",
    "    if psnr != 'inf':\n",
    "        PSNR.append(psnr)\n",
    "#PSNR = np.array(PSNR)\n",
    "#PSNR = PSNR[np.isfinite(PSNR)]"
   ]
  },
  {
   "cell_type": "code",
   "execution_count": 81,
   "id": "b21e10bd",
   "metadata": {},
   "outputs": [
    {
     "data": {
      "text/plain": [
       "[<matplotlib.lines.Line2D at 0x1ff063162e0>]"
      ]
     },
     "execution_count": 81,
     "metadata": {},
     "output_type": "execute_result"
    },
    {
     "data": {
      "image/png": "[encoded data removed]",
      "text/plain": [
       "<Figure size 640x480 with 1 Axes>"
      ]
     },
     "metadata": {},
     "output_type": "display_data"
    }
   ],
   "source": [
    "plt.plot(PSNR)"
   ]
  },
  {
   "cell_type": "code",
   "execution_count": null,
   "id": "61924f8c",
   "metadata": {},
   "outputs": [],
   "source": []
  }
 ],
 "metadata": {
  "kernelspec": {
   "display_name": "Python 3 (ipykernel)",
   "language": "python",
   "name": "python3"
  },
  "language_info": {
   "codemirror_mode": {
    "name": "ipython",
    "version": 3
   },
   "file_extension": ".py",
   "mimetype": "text/x-python",
   "name": "python",
   "nbconvert_exporter": "python",
   "pygments_lexer": "ipython3",
   "version": "3.8.15"
  }
 },
 "nbformat": 4,
 "nbformat_minor": 5
}
