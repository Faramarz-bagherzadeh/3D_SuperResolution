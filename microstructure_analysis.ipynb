{
 "cells": [
  {
   "cell_type": "code",
   "execution_count": 1,
   "id": "c03c7b2d",
   "metadata": {},
   "outputs": [
    {
     "name": "stdout",
     "output_type": "stream",
     "text": [
      "'import TexGen.Core' failed (TexGen is only made available when installing puma with conda on UNIX).\n"
     ]
    }
   ],
   "source": [
    "import tifffile\n",
    "import numpy as np\n",
    "import skimage\n",
    "from sklearn.cluster import KMeans\n",
    "import matplotlib.pyplot as plt\n",
    "import pumapy as puma\n",
    "import pyvista as pv\n",
    "import os\n",
    "import pandas as pd\n",
    "import math"
   ]
  },
  {
   "cell_type": "code",
   "execution_count": 2,
   "id": "8c5232b9",
   "metadata": {},
   "outputs": [],
   "source": [
    "def puma_permeability (binary):\n",
    "    ws = puma.Workspace.from_array(binary.copy())\n",
    "    #print(f\"Shape of workspace: {ws.matrix.shape}\")\n",
    "    keff = puma.compute_permeability(ws, solid_cutoff=(1, 1),\n",
    "                                                      solver_type='minres',\n",
    "                                                      direction='xyz', tol=1e-04,\n",
    "                                                      maxiter=10000,display_iter=True,\n",
    "                                                      matrix_free=True, precondition=False,\n",
    "                                                      output_fields=False)\n",
    "    return keff #Effective permeability tensor"
   ]
  },
  {
   "cell_type": "code",
   "execution_count": 3,
   "id": "d842348a",
   "metadata": {},
   "outputs": [],
   "source": [
    "def puma_specific_area (binary):\n",
    "    ws = puma.Workspace.from_array(binary.copy())\n",
    "    #print(f\"Shape of workspace: {ws.matrix.shape}\")\n",
    "    area_us, specific_area_us = puma.compute_surface_area(ws, cutoff=(1,1))\n",
    "    \n",
    "    return  specific_area_us\n"
   ]
  },
  {
   "cell_type": "code",
   "execution_count": 4,
   "id": "85bfe12c-0a97-489e-a007-a8d2a295c335",
   "metadata": {},
   "outputs": [],
   "source": [
    "def puma_mean_intercept_length(binary):\n",
    "    ws = puma.Workspace.from_array(binary.copy())\n",
    "    mil = puma.compute_mean_intercept_length(ws, void_cutoff=(1, 1))\n",
    "    return mil"
   ]
  },
  {
   "cell_type": "code",
   "execution_count": 5,
   "id": "807f8e07",
   "metadata": {},
   "outputs": [],
   "source": [
    "def puma_tortuosity (binary):\n",
    "    ws = puma.Workspace.from_array(binary.copy())\n",
    "    #print(f\"Shape of workspace: {ws.matrix.shape}\")    \n",
    "    n_eff_x, Deff_x, poro, C_x = puma.compute_continuum_tortuosity(ws, (0,0), 'x', side_bc='s', tolerance=1e-4, solver_type='cg')\n",
    "    n_eff_y, Deff_y, poro, C_y = puma.compute_continuum_tortuosity(ws, (0,0), 'y', side_bc='s', tolerance=1e-4, solver_type='cg')\n",
    "    n_eff_z, Deff_z, poro, C_z = puma.compute_continuum_tortuosity(ws, (0,0), 'z', side_bc='s', tolerance=1e-4, solver_type='cg')\n",
    "\n",
    "   # poro is the porosity of the material\n",
    "   # n_eff is the effective tortuosity factor\n",
    "   # C_x is the computed field vector \n",
    "    return n_eff_x, n_eff_y , n_eff_z\n"
   ]
  },
  {
   "cell_type": "code",
   "execution_count": 6,
   "id": "67928007",
   "metadata": {},
   "outputs": [],
   "source": [
    "def puma_orientations (binary):\n",
    "    ors = puma.Workspace.from_array(binary.copy())\n",
    "    print(f\"Shape of workspace: {ors.matrix.shape}\")\n",
    "    puma.compute_orientation_st(ors, cutoff=(1,1), sigma=1.4, rho=0.7, edt=True)\n",
    "    ors_z = ors.orientation[:,:,:,0].mean()\n",
    "    ors_y = ors.orientation[:,:,:,1].mean()\n",
    "    ors_x = ors.orientation[:,:,:,2].mean()\n",
    "    \n",
    "    return round(ors_x,2), round(ors_y,2), round(ors_z,2)"
   ]
  },
  {
   "cell_type": "code",
   "execution_count": 7,
   "id": "1d304203",
   "metadata": {},
   "outputs": [],
   "source": [
    "def binary_seg_kMeans(img):\n",
    "    binary = np.zeros_like(img)\n",
    "    pixels = img.reshape(-1, 1)\n",
    "    kmeans = KMeans(n_clusters=2)\n",
    "    kmeans.fit(pixels)\n",
    "    centers = kmeans.cluster_centers_\n",
    "    thresh = (centers[0] + centers[1])/2\n",
    "    binary[img > thresh] = 1\n",
    "    return binary"
   ]
  },
  {
   "cell_type": "code",
   "execution_count": 8,
   "id": "92b80d0d",
   "metadata": {},
   "outputs": [],
   "source": [
    "def contrast_stretching(input_image):\n",
    "    #Contrast stretching\n",
    "    #Dropping extreems (artifacts)\n",
    "    p2, p98 = np.percentile(input_image, (2, 98))\n",
    "    stretched_image = skimage.exposure.rescale_intensity(input_image, in_range=(p2, p98))\n",
    "    return stretched_image.astype('uint8')"
   ]
  },
  {
   "cell_type": "code",
   "execution_count": 9,
   "id": "e03b11dc",
   "metadata": {},
   "outputs": [],
   "source": [
    "def read_and_preprocessing (path, s):\n",
    "    \n",
    "    img = tifffile.imread(path)\n",
    "    img = img[s[0]:s[1],s[2]:s[3],s[4]:s[5]]\n",
    "    img = contrast_stretching(img).astype('uint8')\n",
    "    \n",
    "    return img\n",
    "    "
   ]
  },
  {
   "cell_type": "code",
   "execution_count": 10,
   "id": "38a64c3b",
   "metadata": {},
   "outputs": [],
   "source": [
    "def pixel_metrics(pred, target):\n",
    "    \n",
    "    mse = skimage.metrics.mean_squared_error(target, pred)\n",
    "    rmse = math.sqrt(mse)\n",
    "    #mi = skimage.metrics.normalized_mutual_information(target, pred, bins=100)\n",
    "    psnr = skimage.metrics.peak_signal_noise_ratio(target, pred, data_range=None)\n",
    "    ssi = skimage.metrics.structural_similarity(target, pred, win_size=None, gradient=False,\n",
    "                                                data_range=None, channel_axis=None,\n",
    "                                                gaussian_weights=False, full=False,)\n",
    "    \n",
    "    return {'rmse':rmse, 'psnr':psnr, 'ssi':ssi}"
   ]
  },
  {
   "cell_type": "code",
   "execution_count": 11,
   "id": "c10c9895",
   "metadata": {},
   "outputs": [],
   "source": [
    "def microstructure_metric(img):\n",
    "    ice_density = 0.92 #(g/cm³)\n",
    "    pixel_volume = (0.006)**3 # cm³\n",
    "    voxel = 0.006 #cm\n",
    "    \n",
    "    relative_density = round(len(img[img>0])/img.size,2)\n",
    "    density = relative_density * ice_density\n",
    "    \n",
    "    porosity = round (len (img[img==0])*100/img.size,2)\n",
    "    \n",
    "    verts, faces, _, _ = skimage.measure.marching_cubes(img, level=0)\n",
    "    surface_area = skimage.measure.mesh_surface_area(verts, faces)\n",
    "    SSA =round( (surface_area * voxel * voxel),2) # mm^2\n",
    "    \n",
    "    #For 3D objects, the Euler number is obtained as the number of objects\n",
    "    #plus the number of holes, minus the number of tunnels, or loops.\n",
    "    euler = skimage.measure.euler_number(img, connectivity=1)\n",
    "    \n",
    "    return {'density':density, 'porosity':porosity, 'SSA':SSA, 'euler':euler}"
   ]
  },
  {
   "cell_type": "code",
   "execution_count": 12,
   "id": "8ac01e64",
   "metadata": {},
   "outputs": [],
   "source": [
    "snow_slice = [10,210,800,1000,200,400]\n",
    "firn_slice = [10,210,600,800,1200,1400]\n",
    "ice_slice= [10,210,200,400,800,1000]"
   ]
  },
  {
   "cell_type": "code",
   "execution_count": 13,
   "id": "ba952f9f",
   "metadata": {},
   "outputs": [],
   "source": [
    "snow_files = {'High-res': 'data/registered_image02_3dCT_B40_bag12_13_300mm.tif',\n",
    "              'Bicubic' : 'data/02_Substack (6267-6662)_B40_bag12_13.tif',\n",
    "              'SRCNN'   : 'model_output/02_Substack_predictions_SRCNN_.tif',\n",
    "              'DCSRN'   : 'model_output/02_Substack_predictions_DCSRN_.tif',\n",
    "              'SRUnet'  : 'model_output/02_Substack_predictions_SRUnet_.tif',\n",
    "              'SRResnet': 'model_output/02_Substack_predictions_SRResnet_.tif'}"
   ]
  },
  {
   "cell_type": "code",
   "execution_count": 14,
   "id": "b33acace",
   "metadata": {},
   "outputs": [],
   "source": [
    "firn_files = {'High-res': 'data/registered_image06_3dCT_B40_bag56_57_100mm.tif',\n",
    "              'Bicubic' : 'data/06_Substack (8055-8449)_B40_bag56_57.tif',\n",
    "              'SRCNN'   : 'model_output/06_Substack_predictions_SRCNN_.tif',\n",
    "              'DCSRN'   : 'model_output/06_Substack_predictions_DCSRN_.tif',\n",
    "              'SRUnet'  : 'model_output/06_Substack_predictions_SRUnet_.tif',\n",
    "              'SRResnet': 'model_output/06_Substack_predictions_SRResnet_.tif'}\n"
   ]
  },
  {
   "cell_type": "code",
   "execution_count": 15,
   "id": "0f754af8",
   "metadata": {},
   "outputs": [],
   "source": [
    "ice_files = {'High-res': 'data/registered_image10_3dCT_B40_bag108_109_538mm.tif',\n",
    "              'Bicubic' : 'data/10_Substack (4268-4663)_B40_bag108_109.tif',\n",
    "              'SRCNN'   : 'model_output/10_Substack_predictions_SRCNN_.tif',\n",
    "              'DCSRN'   : 'model_output/10_Substack_predictions_DCSRN_.tif',\n",
    "              'SRUnet'  : 'model_output/10_Substack_predictions_SRUnet_.tif',\n",
    "              'SRResnet': 'model_output/10_Substack_predictions_SRResnet_.tif'}"
   ]
  },
  {
   "cell_type": "code",
   "execution_count": 16,
   "id": "6d86fa70-2525-4e95-ad11-070b0d6bbbc6",
   "metadata": {},
   "outputs": [],
   "source": [
    "pixel_result = pd.DataFrame(columns=['type','name','rmse','psnr','ssi'])\n",
    "\n"
   ]
  },
  {
   "cell_type": "code",
   "execution_count": 17,
   "id": "f2c42d26-fcfa-4349-801d-623ec77f00c0",
   "metadata": {},
   "outputs": [
    {
     "data": {
      "text/html": [
       "<div>\n",
       "<style scoped>\n",
       "    .dataframe tbody tr th:only-of-type {\n",
       "        vertical-align: middle;\n",
       "    }\n",
       "\n",
       "    .dataframe tbody tr th {\n",
       "        vertical-align: top;\n",
       "    }\n",
       "\n",
       "    .dataframe thead th {\n",
       "        text-align: right;\n",
       "    }\n",
       "</style>\n",
       "<table border=\"1\" class=\"dataframe\">\n",
       "  <thead>\n",
       "    <tr style=\"text-align: right;\">\n",
       "      <th></th>\n",
       "      <th>type</th>\n",
       "      <th>name</th>\n",
       "      <th>rmse</th>\n",
       "      <th>psnr</th>\n",
       "      <th>ssi</th>\n",
       "    </tr>\n",
       "  </thead>\n",
       "  <tbody>\n",
       "  </tbody>\n",
       "</table>\n",
       "</div>"
      ],
      "text/plain": [
       "Empty DataFrame\n",
       "Columns: [type, name, rmse, psnr, ssi]\n",
       "Index: []"
      ]
     },
     "execution_count": 17,
     "metadata": {},
     "output_type": "execute_result"
    }
   ],
   "source": [
    "pixel_result.head()"
   ]
  },
  {
   "cell_type": "code",
   "execution_count": 18,
   "id": "b21ed162",
   "metadata": {},
   "outputs": [
    {
     "name": "stdout",
     "output_type": "stream",
     "text": [
      "snow\n"
     ]
    },
    {
     "name": "stderr",
     "output_type": "stream",
     "text": [
      "C:\\Users\\Fabagh001\\Anaconda3\\envs\\puma_env\\lib\\site-packages\\skimage\\metrics\\simple_metrics.py:160: RuntimeWarning: divide by zero encountered in scalar divide\n",
      "  return 10 * np.log10((data_range ** 2) / err)\n"
     ]
    },
    {
     "name": "stdout",
     "output_type": "stream",
     "text": [
      "firn\n",
      "ice\n"
     ]
    }
   ],
   "source": [
    "for num , f in enumerate([snow_files,firn_files,ice_files]):\n",
    "    type_ = ['snow','firn','ice'][num]\n",
    "    print (type_)\n",
    "    slice_ = [snow_slice,firn_slice,ice_slice][num]\n",
    "    target = read_and_preprocessing (f['High-res'], slice_)\n",
    "    for row_number , name in enumerate(f.keys()):\n",
    "        row_number = num*6 + row_number\n",
    "        #print (name)\n",
    "        #print (row_number)\n",
    "        data = read_and_preprocessing (f[name], slice_)\n",
    "        pixel_result.at[row_number, 'type'] = type_\n",
    "        pixel_result.at[row_number, 'name'] = name\n",
    "        pm = pixel_metrics(data,target)\n",
    "        pixel_result.at[row_number, 'rmse'] =round( pm['rmse'],2)        \n",
    "        pixel_result.at[row_number, 'psnr'] =  round(pm['psnr'],2)\n",
    "        pixel_result.at[row_number, 'ssi'] =  round(pm['ssi'],2)\n",
    "    \n",
    "    \n",
    "\n"
   ]
  },
  {
   "cell_type": "code",
   "execution_count": 21,
   "id": "2f10296e-7542-465e-807b-0d78f8a61cf5",
   "metadata": {},
   "outputs": [
    {
     "data": {
      "text/html": [
       "<div>\n",
       "<style scoped>\n",
       "    .dataframe tbody tr th:only-of-type {\n",
       "        vertical-align: middle;\n",
       "    }\n",
       "\n",
       "    .dataframe tbody tr th {\n",
       "        vertical-align: top;\n",
       "    }\n",
       "\n",
       "    .dataframe thead th {\n",
       "        text-align: right;\n",
       "    }\n",
       "</style>\n",
       "<table border=\"1\" class=\"dataframe\">\n",
       "  <thead>\n",
       "    <tr style=\"text-align: right;\">\n",
       "      <th></th>\n",
       "      <th>type</th>\n",
       "      <th>name</th>\n",
       "      <th>rmse</th>\n",
       "      <th>psnr</th>\n",
       "      <th>ssi</th>\n",
       "    </tr>\n",
       "  </thead>\n",
       "  <tbody>\n",
       "    <tr>\n",
       "      <th>0</th>\n",
       "      <td>snow</td>\n",
       "      <td>High-res</td>\n",
       "      <td>0.0</td>\n",
       "      <td>inf</td>\n",
       "      <td>1.0</td>\n",
       "    </tr>\n",
       "    <tr>\n",
       "      <th>1</th>\n",
       "      <td>snow</td>\n",
       "      <td>Bicubic</td>\n",
       "      <td>44.57</td>\n",
       "      <td>15.15</td>\n",
       "      <td>0.68</td>\n",
       "    </tr>\n",
       "  </tbody>\n",
       "</table>\n",
       "</div>"
      ],
      "text/plain": [
       "   type      name   rmse   psnr   ssi\n",
       "0  snow  High-res    0.0    inf   1.0\n",
       "1  snow   Bicubic  44.57  15.15  0.68"
      ]
     },
     "execution_count": 21,
     "metadata": {},
     "output_type": "execute_result"
    }
   ],
   "source": [
    "pixel_result.head(2)"
   ]
  },
  {
   "cell_type": "code",
   "execution_count": null,
   "id": "11cd420d-9cc7-474f-881d-97528d7a7e4b",
   "metadata": {},
   "outputs": [],
   "source": []
  },
  {
   "cell_type": "code",
   "execution_count": 30,
   "id": "3910f534-fa95-46d6-928c-3517f04ac554",
   "metadata": {},
   "outputs": [],
   "source": [
    "microstructur_result = pd.DataFrame(columns=['type','name','density','porosity','SSA','euler','mil',\n",
    "                                              'orientation','tortuosity','permeability'])"
   ]
  },
  {
   "cell_type": "code",
   "execution_count": 31,
   "id": "addc4eec",
   "metadata": {},
   "outputs": [
    {
     "name": "stdout",
     "output_type": "stream",
     "text": [
      "snow\n",
      "High-res\n",
      "0\n",
      "\u001b[93mWARNING: The minres permeability solver requires a lower tolerance value than other PuMA solvers. A tolerance value of 1e-7 or lower is recommended\u001b[0m\n",
      "Approximate memory requirement for simulation: 655.15 MB\n",
      "Initializing indexing matrices ... Done\n",
      "Creating A matrix ... Done\n",
      "Time to setup system: 86.27142869999989\n",
      "Running x direction\n",
      "Creating b vector ... Done\n",
      "Solving Ax=b using minres solver\n",
      "Iteration: 13, driving either residual (0.0000978338, 0.0006248611) --> target = 0.0001000000 ... Done\n",
      "Running y direction\n",
      "Creating b vector ... Done\n",
      "Solving Ax=b using minres solver\n",
      "Iteration: 14, driving either residual (0.0000884047, 0.0006230817) --> target = 0.0001000000 ... Done\n",
      "Running z direction\n",
      "Creating b vector ... Done\n",
      "Solving Ax=b using minres solver\n",
      "Iteration: 14, driving either residual (0.0000892063, 0.0006223485) --> target = 0.0001000000 ... Done\n",
      "\n",
      "Effective permeability tensor: \n",
      "[[ 9.04822584e-13 -2.00813652e-15  2.79109805e-15]\n",
      " [-1.56830165e-15  9.02598804e-13 -1.23754860e-15]\n",
      " [ 2.45906405e-15 -1.24245279e-15  8.80446630e-13]]\n",
      "Time to solve: 696.5947157\n",
      "\n"
     ]
    }
   ],
   "source": [
    "for num , f in enumerate([snow_files,firn_files,ice_files]):\n",
    "    type_ = ['snow','firn','ice'][num]\n",
    "    print (type_)\n",
    "    slice_ = [snow_slice,firn_slice,ice_slice][num]\n",
    "    for row_number , name in enumerate(f.keys()):\n",
    "        row_number = num*6 + row_number\n",
    "        print (name)\n",
    "        print (row_number)\n",
    "        data = read_and_preprocessing (f[name], slice_)\n",
    "        data = binary_seg_kMeans (data)\n",
    "        microstructur_result.at[row_number, 'type'] = type_\n",
    "        microstructur_result.at[row_number, 'name'] = name\n",
    "        mm = microstructure_metric(data)\n",
    "        microstructur_result.at[row_number, 'density'] =round( mm['density'],2)        \n",
    "        microstructur_result.at[row_number, 'porosity'] =  round(mm['porosity'],2)\n",
    "        microstructur_result.at[row_number, 'SSA'] =  round(mm['SSA'],0)\n",
    "        microstructur_result.at[row_number, 'euler'] =  round(mm['euler'],0)\n",
    "        microstructur_result.at[row_number, 'mil'] =  str(puma_mean_intercept_length(data))\n",
    "        microstructur_result.at[row_number, 'permeability'] =  str(puma_permeability(data))\n",
    "        #microstructur_result.at[row_number, 'orientation'] =  str(puma_orientations (data))\n",
    "        \n",
    "        break\n",
    "    break\n",
    "        #microstructur_result.at[row_number, 'tortuosity'] =  str(puma_tortuosity(data))\n",
    "        \n",
    "        "
   ]
  },
  {
   "cell_type": "code",
   "execution_count": 32,
   "id": "9f6ab14e-2bba-4ff4-b761-4bab6fc820da",
   "metadata": {},
   "outputs": [
    {
     "data": {
      "text/html": [
       "<div>\n",
       "<style scoped>\n",
       "    .dataframe tbody tr th:only-of-type {\n",
       "        vertical-align: middle;\n",
       "    }\n",
       "\n",
       "    .dataframe tbody tr th {\n",
       "        vertical-align: top;\n",
       "    }\n",
       "\n",
       "    .dataframe thead th {\n",
       "        text-align: right;\n",
       "    }\n",
       "</style>\n",
       "<table border=\"1\" class=\"dataframe\">\n",
       "  <thead>\n",
       "    <tr style=\"text-align: right;\">\n",
       "      <th></th>\n",
       "      <th>type</th>\n",
       "      <th>name</th>\n",
       "      <th>density</th>\n",
       "      <th>porosity</th>\n",
       "      <th>SSA</th>\n",
       "      <th>euler</th>\n",
       "      <th>mil</th>\n",
       "      <th>orientation</th>\n",
       "      <th>tortuosity</th>\n",
       "      <th>permeability</th>\n",
       "    </tr>\n",
       "  </thead>\n",
       "  <tbody>\n",
       "    <tr>\n",
       "      <th>0</th>\n",
       "      <td>snow</td>\n",
       "      <td>High-res</td>\n",
       "      <td>0.49</td>\n",
       "      <td>47.34</td>\n",
       "      <td>38.0</td>\n",
       "      <td>-1380</td>\n",
       "      <td>(1.7589529989477374e-05, 1.7085700031637095e-0...</td>\n",
       "      <td>NaN</td>\n",
       "      <td>NaN</td>\n",
       "      <td>(array([[ 9.04822584e-13, -2.00813652e-15,  2....</td>\n",
       "    </tr>\n",
       "  </tbody>\n",
       "</table>\n",
       "</div>"
      ],
      "text/plain": [
       "   type      name density porosity   SSA  euler  \\\n",
       "0  snow  High-res    0.49    47.34  38.0  -1380   \n",
       "\n",
       "                                                 mil orientation tortuosity  \\\n",
       "0  (1.7589529989477374e-05, 1.7085700031637095e-0...         NaN        NaN   \n",
       "\n",
       "                                        permeability  \n",
       "0  (array([[ 9.04822584e-13, -2.00813652e-15,  2....  "
      ]
     },
     "execution_count": 32,
     "metadata": {},
     "output_type": "execute_result"
    }
   ],
   "source": [
    "microstructur_result.head()"
   ]
  },
  {
   "cell_type": "code",
   "execution_count": 33,
   "id": "d86e7706",
   "metadata": {},
   "outputs": [],
   "source": [
    "sss = puma_mean_intercept_length(data)"
   ]
  },
  {
   "cell_type": "code",
   "execution_count": 34,
   "id": "cb661b71-e6e0-45e3-b1cb-15be2cdd8a1f",
   "metadata": {},
   "outputs": [
    {
     "data": {
      "text/plain": [
       "(1.7589529989477374e-05, 1.7085700031637095e-05, 1.6783383203114102e-05)"
      ]
     },
     "execution_count": 34,
     "metadata": {},
     "output_type": "execute_result"
    }
   ],
   "source": [
    "sss"
   ]
  },
  {
   "cell_type": "code",
   "execution_count": null,
   "id": "3045aae5-1bdd-47e1-b142-61077a05b37f",
   "metadata": {},
   "outputs": [],
   "source": []
  }
 ],
 "metadata": {
  "kernelspec": {
   "display_name": "Python 3 (ipykernel)",
   "language": "python",
   "name": "python3"
  },
  "language_info": {
   "codemirror_mode": {
    "name": "ipython",
    "version": 3
   },
   "file_extension": ".py",
   "mimetype": "text/x-python",
   "name": "python",
   "nbconvert_exporter": "python",
   "pygments_lexer": "ipython3",
   "version": "3.8.18"
  }
 },
 "nbformat": 4,
 "nbformat_minor": 5
}
